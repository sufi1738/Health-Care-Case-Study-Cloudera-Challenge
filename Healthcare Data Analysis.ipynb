{
 "cells": [
  {
   "cell_type": "markdown",
   "metadata": {},
   "source": [
    "### PROBLEM SUMMARY\n",
    "The Challenge was divided into the following three parts, each of which had specific requirements that pertained to identifying anomalous entities in different aspects of the Medicare system:\n",
    "- Part 1: Identify providers that overcharge for certain procedures or regions where procedures are too expensive.\n",
    "- Part 2: Identify the three providers that are least similar to other providers and the three regions that are least similar to other regions.\n",
    "- Part 3: Identify 10,000 Medicare patients who are involved in anomalous activities."
   ]
  },
  {
   "cell_type": "code",
   "execution_count": 1,
   "metadata": {},
   "outputs": [],
   "source": [
    "import warnings\n",
    "warnings.simplefilter('ignore')"
   ]
  },
  {
   "cell_type": "code",
   "execution_count": 2,
   "metadata": {},
   "outputs": [],
   "source": [
    "import pandas as pd\n",
    "import numpy as np\n",
    "import matplotlib.pyplot as plt\n",
    "import seaborn as sns"
   ]
  },
  {
   "cell_type": "code",
   "execution_count": 3,
   "metadata": {},
   "outputs": [],
   "source": [
    "medcharge_in = pd.read_csv('D:/Business Analytics/PYTHON/Sufiyan/Assignment/9 - End to End Case Study for Python Foundation (Health Care Analytics)/9. End to End Foundation Case Study-1/Medicare_Charge_Inpatient_DRG100_DRG_Summary_by_DRG_FY2011.csv',sep=',')\n",
    "medcharge_out = pd.read_csv('D:/Business Analytics/PYTHON/Sufiyan/Assignment/9 - End to End Case Study for Python Foundation (Health Care Analytics)/9. End to End Foundation Case Study-1/Medicare_Charge_Outpatient_APC30_Summary_by_APC_CY2011.csv',sep=',')\n",
    "med_prov_charge_in = pd.read_csv('D:/Business Analytics/PYTHON/Sufiyan/Assignment/9 - End to End Case Study for Python Foundation (Health Care Analytics)/9. End to End Foundation Case Study-1/Medicare_Provider_Charge_Inpatient_DRG100_FY2011.csv',sep=',')\n",
    "med_prov_charge_out = pd.read_csv('D:/Business Analytics/PYTHON/Sufiyan/Assignment/9 - End to End Case Study for Python Foundation (Health Care Analytics)/9. End to End Foundation Case Study-1/Medicare_Provider_Charge_Outpatient_APC30_CY2011_v2.csv',sep=',')"
   ]
  },
  {
   "cell_type": "code",
   "execution_count": 4,
   "metadata": {},
   "outputs": [],
   "source": [
    "#inpatient_data = pd.merge(med_prov_charge_inpatient,medcharge_inpatient,on='DRG Definition')"
   ]
  },
  {
   "cell_type": "code",
   "execution_count": 5,
   "metadata": {},
   "outputs": [],
   "source": [
    "#outpatient_data = pd.merge(med_prov_charge_outpatient,medcharge_outpatient,on='APC')"
   ]
  },
  {
   "cell_type": "markdown",
   "metadata": {},
   "source": [
    "The Data Analysis will be based on financial summary data from 2011 that were made availible by the centers of  Medicare and Medicaid Services\n",
    "\n",
    "- Medicare_Provider_Charge_Inpatient_DRG100_FY2011.csv\n",
    "- Medicare_Provider_Charge_Outpatient_APC30_CY2011_v2.csv"
   ]
  },
  {
   "cell_type": "markdown",
   "metadata": {},
   "source": [
    "#### Checking for null values in the dataset"
   ]
  },
  {
   "cell_type": "code",
   "execution_count": 6,
   "metadata": {},
   "outputs": [
    {
     "data": {
      "text/plain": [
       "APC                                    0\n",
       "Outpatient Services                    0\n",
       "Average Estimated Submitted Charges    0\n",
       "Average Total Payments                 0\n",
       "dtype: int64"
      ]
     },
     "execution_count": 6,
     "metadata": {},
     "output_type": "execute_result"
    }
   ],
   "source": [
    "# Medicare_Charge_Outpatient\n",
    "medcharge_out.isnull().sum()"
   ]
  },
  {
   "cell_type": "code",
   "execution_count": 7,
   "metadata": {},
   "outputs": [
    {
     "data": {
      "text/plain": [
       "APC                                           0\n",
       "Provider Id                                   0\n",
       "Provider Name                                 0\n",
       "Provider Street Address                       0\n",
       "Provider City                                 0\n",
       "Provider State                                0\n",
       "Provider Zip Code                             0\n",
       "Hospital Referral Region (HRR) Description    0\n",
       "Outpatient Services                           0\n",
       "Average  Estimated Submitted Charges          0\n",
       "Average Total Payments                        0\n",
       "dtype: int64"
      ]
     },
     "execution_count": 7,
     "metadata": {},
     "output_type": "execute_result"
    }
   ],
   "source": [
    "# Medicare_Provider_Charge_Outpatient\n",
    "med_prov_charge_out.isnull().sum()"
   ]
  },
  {
   "cell_type": "markdown",
   "metadata": {},
   "source": [
    "We can conclude that the both medcharge_out and med_prov_charge_out dataset has no missing values."
   ]
  },
  {
   "cell_type": "code",
   "execution_count": 8,
   "metadata": {},
   "outputs": [],
   "source": [
    "# Changing the column names in prober format\n",
    "outp_col = ['APC', 'Provider_Id', 'Provider_Name', 'Provider_Street_Address',\n",
    "       'Provider_City', 'Provider_State', 'Provider_Zip_Code',\n",
    "       'Hospital_Referral_Region_(HRR)_Description', 'Outpatient_Services',\n",
    "       'Average_Estimated_Submitted_Charges', 'Average_Total_Payments']\n",
    "med_prov_charge_out.columns = outp_col"
   ]
  },
  {
   "cell_type": "markdown",
   "metadata": {},
   "source": [
    "### Part 1: Identify providers that overcharge for certain procedures or regions where procedures are too expensive."
   ]
  },
  {
   "cell_type": "markdown",
   "metadata": {},
   "source": [
    "#### Part 1A: Highest Cost Variation"
   ]
  },
  {
   "cell_type": "code",
   "execution_count": 9,
   "metadata": {},
   "outputs": [],
   "source": [
    "# Finding the Standard Deviation and Mean for Outpatient DRG\n",
    "out_cv = pd.concat(\n",
    "[med_prov_charge_out[['APC','Average_Estimated_Submitted_Charges']].groupby(by='APC').std().add_suffix('_std'),\n",
    " med_prov_charge_out[['APC','Average_Estimated_Submitted_Charges']].groupby(by='APC').mean().add_suffix('_avg')],axis=1)"
   ]
  },
  {
   "cell_type": "code",
   "execution_count": 10,
   "metadata": {},
   "outputs": [],
   "source": [
    "# Coefficient of Variance - Standard Deviation/Mean\n",
    "out_cv['Variation'] = out_cv.apply(lambda x: x['Average_Estimated_Submitted_Charges_std']/x['Average_Estimated_Submitted_Charges_avg'],axis=1)"
   ]
  },
  {
   "cell_type": "code",
   "execution_count": 11,
   "metadata": {},
   "outputs": [
    {
     "data": {
      "text/plain": [
       "APC\n",
       "0604 - Level 1 Hospital Clinic Visits     1.385150\n",
       "0698 - Level II Eye Tests & Treatments    1.310444\n",
       "0019 - Level I Excision/ Biopsy           1.229897\n",
       "Name: Variation, dtype: float64"
      ]
     },
     "execution_count": 11,
     "metadata": {},
     "output_type": "execute_result"
    }
   ],
   "source": [
    "# Procedure with highest variations\n",
    "out_cv['Variation'].nlargest(3)"
   ]
  },
  {
   "cell_type": "code",
   "execution_count": 12,
   "metadata": {},
   "outputs": [],
   "source": [
    "# Extracting procedure with highest variations\n",
    "df1 = med_prov_charge_out[(med_prov_charge_out.APC=='0604 - Level 1 Hospital Clinic Visits')|\n",
    "                   (med_prov_charge_out.APC=='0698 - Level II Eye Tests & Treatments')|\n",
    "                   (med_prov_charge_out.APC=='0019 - Level I Excision/ Biopsy')]"
   ]
  },
  {
   "cell_type": "code",
   "execution_count": 13,
   "metadata": {},
   "outputs": [
    {
     "data": {
      "image/png": "[encoded data removed]",
      "text/plain": [
       "<Figure size 576x360 with 1 Axes>"
      ]
     },
     "metadata": {
      "needs_background": "light"
     },
     "output_type": "display_data"
    }
   ],
   "source": [
    "# Creating boxplot to visualize highest cost variation charged by providers \n",
    "plt.figure(figsize=(8,5))\n",
    "sns.boxplot(data=df1,x='Average_Estimated_Submitted_Charges',y='APC')\n",
    "plt.xlabel('Average Provider Charges')\n",
    "plt.ylabel('Procedure Code')\n",
    "plt.title('Claimed charges for the three procedures that have the highest variation')\n",
    "plt.show()"
   ]
  },
  {
   "cell_type": "markdown",
   "metadata": {},
   "source": [
    "The three medical procedure that had the most widely varying cost to the patient are **Level 1 Hospital Clinic Visits, Level II Eye Tests Treatments** & **Level I Excision/ Biopsy**. The above figure indicated that some providers charge extremely large amount for certain medical procedures, despite each procedure having relatively low mean and median costs. "
   ]
  },
  {
   "cell_type": "markdown",
   "metadata": {},
   "source": [
    "#### Part 1B: Highest Cost Claims by Provider"
   ]
  },
  {
   "cell_type": "code",
   "execution_count": 14,
   "metadata": {},
   "outputs": [],
   "source": [
    "# Finding the max of Average Covered Charges for OutPatient\n",
    "max_out = pd.DataFrame(med_prov_charge_out[['APC','Average_Estimated_Submitted_Charges']].groupby(by='APC').max().add_suffix('_max')).reset_index()"
   ]
  },
  {
   "cell_type": "code",
   "execution_count": 15,
   "metadata": {},
   "outputs": [],
   "source": [
    "# Merging the provider charges data with max of average covered charges for outpatient\n",
    "df2 = pd.merge(med_prov_charge_out,max_out,on='APC',how='left')"
   ]
  },
  {
   "cell_type": "code",
   "execution_count": 16,
   "metadata": {},
   "outputs": [],
   "source": [
    "# Identifying the provider that have charged the maximum for outpatient\n",
    "df2['Max'] = df2.apply(lambda x:1 if (x['Average_Estimated_Submitted_Charges']==x['Average_Estimated_Submitted_Charges_max']) else 0,axis=1)"
   ]
  },
  {
   "cell_type": "code",
   "execution_count": 17,
   "metadata": {},
   "outputs": [],
   "source": [
    "# Getting number of times a provider has charge max value for procedure\n",
    "out_max_provider = pd.DataFrame(df2[['Provider_Name','Max']].groupby(by='Provider_Name').sum().add_suffix('_Sum').sort_values(by='Max_Sum',ascending=False).reset_index())"
   ]
  },
  {
   "cell_type": "code",
   "execution_count": 18,
   "metadata": {},
   "outputs": [
    {
     "data": {
      "text/html": [
       "<div>\n",
       "<style scoped>\n",
       "    .dataframe tbody tr th:only-of-type {\n",
       "        vertical-align: middle;\n",
       "    }\n",
       "\n",
       "    .dataframe tbody tr th {\n",
       "        vertical-align: top;\n",
       "    }\n",
       "\n",
       "    .dataframe thead th {\n",
       "        text-align: right;\n",
       "    }\n",
       "</style>\n",
       "<table border=\"1\" class=\"dataframe\">\n",
       "  <thead>\n",
       "    <tr style=\"text-align: right;\">\n",
       "      <th></th>\n",
       "      <th>Provider_Name</th>\n",
       "      <th>Max_Sum</th>\n",
       "    </tr>\n",
       "  </thead>\n",
       "  <tbody>\n",
       "    <tr>\n",
       "      <th>0</th>\n",
       "      <td>COLUMBIA HOSPITAL</td>\n",
       "      <td>2</td>\n",
       "    </tr>\n",
       "    <tr>\n",
       "      <th>1</th>\n",
       "      <td>FORT WALTON BEACH MEDICAL CENTER</td>\n",
       "      <td>2</td>\n",
       "    </tr>\n",
       "    <tr>\n",
       "      <th>2</th>\n",
       "      <td>CAPITAL HEALTH MEDICAL CENTER - HOPEWELL</td>\n",
       "      <td>2</td>\n",
       "    </tr>\n",
       "  </tbody>\n",
       "</table>\n",
       "</div>"
      ],
      "text/plain": [
       "                              Provider_Name  Max_Sum\n",
       "0                         COLUMBIA HOSPITAL        2\n",
       "1          FORT WALTON BEACH MEDICAL CENTER        2\n",
       "2  CAPITAL HEALTH MEDICAL CENTER - HOPEWELL        2"
      ]
     },
     "execution_count": 18,
     "metadata": {},
     "output_type": "execute_result"
    }
   ],
   "source": [
    "out_max_provider.head(3)"
   ]
  },
  {
   "cell_type": "markdown",
   "metadata": {},
   "source": [
    "The three providers who claim the highest charges for the most number of procedures are **Columbia Hospital, Fort Walton Beach Medical Center** & **Capital Health Medical Center - Hopewell**"
   ]
  },
  {
   "cell_type": "code",
   "execution_count": 19,
   "metadata": {},
   "outputs": [],
   "source": [
    "out_max_provider = out_max_provider[out_max_provider.Max_Sum>0]"
   ]
  },
  {
   "cell_type": "code",
   "execution_count": 20,
   "metadata": {},
   "outputs": [],
   "source": [
    "#plt.figure(figsize=(12,5))\n",
    "#plt.pie(out_max_provider.Max_Sum,labels=out_max_provider.Provider_Name,autopct='%1.1f%%')\n",
    "#plt.show()"
   ]
  },
  {
   "cell_type": "markdown",
   "metadata": {},
   "source": [
    "#### Part 1C: Highest Cost Claims by Region"
   ]
  },
  {
   "cell_type": "code",
   "execution_count": 21,
   "metadata": {},
   "outputs": [],
   "source": [
    "#getting number of times a provider has charge max value for procedure\n",
    "#out_max_region = pd.DataFrame(df2[['Hospital_Referral_Region_(HRR)_Description','Max']].groupby(by='Hospital_Referral_Region_(HRR)_Description').sum().add_suffix('_Sum').sort_values(by='Max_Sum',ascending=False).reset_index())"
   ]
  },
  {
   "cell_type": "code",
   "execution_count": 22,
   "metadata": {},
   "outputs": [],
   "source": [
    "# Finding the mean of Average Covered Charges for Outpatient by APC and Region\n",
    "out_region_mean = med_prov_charge_out[['APC','Hospital_Referral_Region_(HRR)_Description','Average_Estimated_Submitted_Charges']].groupby(by=['APC','Hospital_Referral_Region_(HRR)_Description']).mean().add_suffix('_Avg')"
   ]
  },
  {
   "cell_type": "code",
   "execution_count": 23,
   "metadata": {},
   "outputs": [],
   "source": [
    "# Resetting Index\n",
    "out_region_mean.reset_index(inplace=True)"
   ]
  },
  {
   "cell_type": "code",
   "execution_count": 24,
   "metadata": {},
   "outputs": [
    {
     "data": {
      "text/html": [
       "<div>\n",
       "<style scoped>\n",
       "    .dataframe tbody tr th:only-of-type {\n",
       "        vertical-align: middle;\n",
       "    }\n",
       "\n",
       "    .dataframe tbody tr th {\n",
       "        vertical-align: top;\n",
       "    }\n",
       "\n",
       "    .dataframe thead th {\n",
       "        text-align: right;\n",
       "    }\n",
       "</style>\n",
       "<table border=\"1\" class=\"dataframe\">\n",
       "  <thead>\n",
       "    <tr style=\"text-align: right;\">\n",
       "      <th></th>\n",
       "      <th>APC</th>\n",
       "      <th>Hospital_Referral_Region_(HRR)_Description</th>\n",
       "      <th>Average_Estimated_Submitted_Charges_Avg</th>\n",
       "    </tr>\n",
       "  </thead>\n",
       "  <tbody>\n",
       "    <tr>\n",
       "      <th>0</th>\n",
       "      <td>0012 - Level I Debridement &amp; Destruction</td>\n",
       "      <td>AK - Anchorage</td>\n",
       "      <td>149.589749</td>\n",
       "    </tr>\n",
       "    <tr>\n",
       "      <th>1</th>\n",
       "      <td>0012 - Level I Debridement &amp; Destruction</td>\n",
       "      <td>AL - Birmingham</td>\n",
       "      <td>78.086957</td>\n",
       "    </tr>\n",
       "    <tr>\n",
       "      <th>2</th>\n",
       "      <td>0012 - Level I Debridement &amp; Destruction</td>\n",
       "      <td>AR - Fort Smith</td>\n",
       "      <td>80.102439</td>\n",
       "    </tr>\n",
       "  </tbody>\n",
       "</table>\n",
       "</div>"
      ],
      "text/plain": [
       "                                        APC  \\\n",
       "0  0012 - Level I Debridement & Destruction   \n",
       "1  0012 - Level I Debridement & Destruction   \n",
       "2  0012 - Level I Debridement & Destruction   \n",
       "\n",
       "  Hospital_Referral_Region_(HRR)_Description  \\\n",
       "0                             AK - Anchorage   \n",
       "1                            AL - Birmingham   \n",
       "2                            AR - Fort Smith   \n",
       "\n",
       "   Average_Estimated_Submitted_Charges_Avg  \n",
       "0                               149.589749  \n",
       "1                                78.086957  \n",
       "2                                80.102439  "
      ]
     },
     "execution_count": 24,
     "metadata": {},
     "output_type": "execute_result"
    }
   ],
   "source": [
    "out_region_mean.head(3)"
   ]
  },
  {
   "cell_type": "code",
   "execution_count": 25,
   "metadata": {},
   "outputs": [],
   "source": [
    "# Finding the max charges for Outpatient\n",
    "out_region_max = out_region_mean[['APC','Average_Estimated_Submitted_Charges_Avg']].groupby(by='APC').max().add_suffix('_Max').reset_index()"
   ]
  },
  {
   "cell_type": "code",
   "execution_count": 26,
   "metadata": {},
   "outputs": [
    {
     "data": {
      "text/html": [
       "<div>\n",
       "<style scoped>\n",
       "    .dataframe tbody tr th:only-of-type {\n",
       "        vertical-align: middle;\n",
       "    }\n",
       "\n",
       "    .dataframe tbody tr th {\n",
       "        vertical-align: top;\n",
       "    }\n",
       "\n",
       "    .dataframe thead th {\n",
       "        text-align: right;\n",
       "    }\n",
       "</style>\n",
       "<table border=\"1\" class=\"dataframe\">\n",
       "  <thead>\n",
       "    <tr style=\"text-align: right;\">\n",
       "      <th></th>\n",
       "      <th>APC</th>\n",
       "      <th>Average_Estimated_Submitted_Charges_Avg_Max</th>\n",
       "    </tr>\n",
       "  </thead>\n",
       "  <tbody>\n",
       "    <tr>\n",
       "      <th>0</th>\n",
       "      <td>0012 - Level I Debridement &amp; Destruction</td>\n",
       "      <td>438.307045</td>\n",
       "    </tr>\n",
       "    <tr>\n",
       "      <th>1</th>\n",
       "      <td>0013 - Level II Debridement &amp; Destruction</td>\n",
       "      <td>1042.707451</td>\n",
       "    </tr>\n",
       "    <tr>\n",
       "      <th>2</th>\n",
       "      <td>0015 - Level III Debridement &amp; Destruction</td>\n",
       "      <td>1478.536545</td>\n",
       "    </tr>\n",
       "    <tr>\n",
       "      <th>3</th>\n",
       "      <td>0019 - Level I Excision/ Biopsy</td>\n",
       "      <td>15946.325655</td>\n",
       "    </tr>\n",
       "    <tr>\n",
       "      <th>4</th>\n",
       "      <td>0020 - Level II Excision/ Biopsy</td>\n",
       "      <td>15784.975000</td>\n",
       "    </tr>\n",
       "  </tbody>\n",
       "</table>\n",
       "</div>"
      ],
      "text/plain": [
       "                                          APC  \\\n",
       "0    0012 - Level I Debridement & Destruction   \n",
       "1   0013 - Level II Debridement & Destruction   \n",
       "2  0015 - Level III Debridement & Destruction   \n",
       "3             0019 - Level I Excision/ Biopsy   \n",
       "4            0020 - Level II Excision/ Biopsy   \n",
       "\n",
       "   Average_Estimated_Submitted_Charges_Avg_Max  \n",
       "0                                   438.307045  \n",
       "1                                  1042.707451  \n",
       "2                                  1478.536545  \n",
       "3                                 15946.325655  \n",
       "4                                 15784.975000  "
      ]
     },
     "execution_count": 26,
     "metadata": {},
     "output_type": "execute_result"
    }
   ],
   "source": [
    "out_region_max.head()"
   ]
  },
  {
   "cell_type": "code",
   "execution_count": 27,
   "metadata": {},
   "outputs": [],
   "source": [
    "# Merging the mean and max will give side by side comparision of region having highest claim\n",
    "out_region_merge = pd.merge(out_region_mean,out_region_max,on='APC',how='left')"
   ]
  },
  {
   "cell_type": "code",
   "execution_count": 28,
   "metadata": {},
   "outputs": [
    {
     "data": {
      "text/html": [
       "<div>\n",
       "<style scoped>\n",
       "    .dataframe tbody tr th:only-of-type {\n",
       "        vertical-align: middle;\n",
       "    }\n",
       "\n",
       "    .dataframe tbody tr th {\n",
       "        vertical-align: top;\n",
       "    }\n",
       "\n",
       "    .dataframe thead th {\n",
       "        text-align: right;\n",
       "    }\n",
       "</style>\n",
       "<table border=\"1\" class=\"dataframe\">\n",
       "  <thead>\n",
       "    <tr style=\"text-align: right;\">\n",
       "      <th></th>\n",
       "      <th>APC</th>\n",
       "      <th>Hospital_Referral_Region_(HRR)_Description</th>\n",
       "      <th>Average_Estimated_Submitted_Charges_Avg</th>\n",
       "      <th>Average_Estimated_Submitted_Charges_Avg_Max</th>\n",
       "    </tr>\n",
       "  </thead>\n",
       "  <tbody>\n",
       "    <tr>\n",
       "      <th>0</th>\n",
       "      <td>0012 - Level I Debridement &amp; Destruction</td>\n",
       "      <td>AK - Anchorage</td>\n",
       "      <td>149.589749</td>\n",
       "      <td>438.307045</td>\n",
       "    </tr>\n",
       "    <tr>\n",
       "      <th>1</th>\n",
       "      <td>0012 - Level I Debridement &amp; Destruction</td>\n",
       "      <td>AL - Birmingham</td>\n",
       "      <td>78.086957</td>\n",
       "      <td>438.307045</td>\n",
       "    </tr>\n",
       "    <tr>\n",
       "      <th>2</th>\n",
       "      <td>0012 - Level I Debridement &amp; Destruction</td>\n",
       "      <td>AR - Fort Smith</td>\n",
       "      <td>80.102439</td>\n",
       "      <td>438.307045</td>\n",
       "    </tr>\n",
       "  </tbody>\n",
       "</table>\n",
       "</div>"
      ],
      "text/plain": [
       "                                        APC  \\\n",
       "0  0012 - Level I Debridement & Destruction   \n",
       "1  0012 - Level I Debridement & Destruction   \n",
       "2  0012 - Level I Debridement & Destruction   \n",
       "\n",
       "  Hospital_Referral_Region_(HRR)_Description  \\\n",
       "0                             AK - Anchorage   \n",
       "1                            AL - Birmingham   \n",
       "2                            AR - Fort Smith   \n",
       "\n",
       "   Average_Estimated_Submitted_Charges_Avg  \\\n",
       "0                               149.589749   \n",
       "1                                78.086957   \n",
       "2                                80.102439   \n",
       "\n",
       "   Average_Estimated_Submitted_Charges_Avg_Max  \n",
       "0                                   438.307045  \n",
       "1                                   438.307045  \n",
       "2                                   438.307045  "
      ]
     },
     "execution_count": 28,
     "metadata": {},
     "output_type": "execute_result"
    }
   ],
   "source": [
    "out_region_merge.head(3)"
   ]
  },
  {
   "cell_type": "code",
   "execution_count": 29,
   "metadata": {},
   "outputs": [],
   "source": [
    "# Identifying the region that have charged the maximum for outpatient\n",
    "out_region_merge['Max'] = out_region_merge.apply(lambda x:1 if (x['Average_Estimated_Submitted_Charges_Avg']==x['Average_Estimated_Submitted_Charges_Avg_Max']) else 0, axis = 1)"
   ]
  },
  {
   "cell_type": "code",
   "execution_count": 30,
   "metadata": {},
   "outputs": [
    {
     "data": {
      "text/html": [
       "<div>\n",
       "<style scoped>\n",
       "    .dataframe tbody tr th:only-of-type {\n",
       "        vertical-align: middle;\n",
       "    }\n",
       "\n",
       "    .dataframe tbody tr th {\n",
       "        vertical-align: top;\n",
       "    }\n",
       "\n",
       "    .dataframe thead th {\n",
       "        text-align: right;\n",
       "    }\n",
       "</style>\n",
       "<table border=\"1\" class=\"dataframe\">\n",
       "  <thead>\n",
       "    <tr style=\"text-align: right;\">\n",
       "      <th></th>\n",
       "      <th>APC</th>\n",
       "      <th>Hospital_Referral_Region_(HRR)_Description</th>\n",
       "      <th>Average_Estimated_Submitted_Charges_Avg</th>\n",
       "      <th>Average_Estimated_Submitted_Charges_Avg_Max</th>\n",
       "      <th>Max</th>\n",
       "    </tr>\n",
       "  </thead>\n",
       "  <tbody>\n",
       "    <tr>\n",
       "      <th>93</th>\n",
       "      <td>0012 - Level I Debridement &amp; Destruction</td>\n",
       "      <td>NE - Omaha</td>\n",
       "      <td>438.307045</td>\n",
       "      <td>438.307045</td>\n",
       "      <td>1</td>\n",
       "    </tr>\n",
       "    <tr>\n",
       "      <th>160</th>\n",
       "      <td>0013 - Level II Debridement &amp; Destruction</td>\n",
       "      <td>AL - Dothan</td>\n",
       "      <td>1042.707451</td>\n",
       "      <td>1042.707451</td>\n",
       "      <td>1</td>\n",
       "    </tr>\n",
       "    <tr>\n",
       "      <th>582</th>\n",
       "      <td>0015 - Level III Debridement &amp; Destruction</td>\n",
       "      <td>MI - Dearborn</td>\n",
       "      <td>1478.536545</td>\n",
       "      <td>1478.536545</td>\n",
       "      <td>1</td>\n",
       "    </tr>\n",
       "  </tbody>\n",
       "</table>\n",
       "</div>"
      ],
      "text/plain": [
       "                                            APC  \\\n",
       "93     0012 - Level I Debridement & Destruction   \n",
       "160   0013 - Level II Debridement & Destruction   \n",
       "582  0015 - Level III Debridement & Destruction   \n",
       "\n",
       "    Hospital_Referral_Region_(HRR)_Description  \\\n",
       "93                                  NE - Omaha   \n",
       "160                                AL - Dothan   \n",
       "582                              MI - Dearborn   \n",
       "\n",
       "     Average_Estimated_Submitted_Charges_Avg  \\\n",
       "93                                438.307045   \n",
       "160                              1042.707451   \n",
       "582                              1478.536545   \n",
       "\n",
       "     Average_Estimated_Submitted_Charges_Avg_Max  Max  \n",
       "93                                    438.307045    1  \n",
       "160                                  1042.707451    1  \n",
       "582                                  1478.536545    1  "
      ]
     },
     "execution_count": 30,
     "metadata": {},
     "output_type": "execute_result"
    }
   ],
   "source": [
    "out_region_merge[out_region_merge.Max==1].head(3)"
   ]
  },
  {
   "cell_type": "code",
   "execution_count": 31,
   "metadata": {},
   "outputs": [],
   "source": [
    "# Getting number of times a region has charge max value for procedure\n",
    "out_region_grouped = out_region_merge[['Hospital_Referral_Region_(HRR)_Description','Max']].groupby(by='Hospital_Referral_Region_(HRR)_Description').sum().add_suffix('_Sum').reset_index()"
   ]
  },
  {
   "cell_type": "code",
   "execution_count": 32,
   "metadata": {},
   "outputs": [
    {
     "data": {
      "text/html": [
       "<div>\n",
       "<style scoped>\n",
       "    .dataframe tbody tr th:only-of-type {\n",
       "        vertical-align: middle;\n",
       "    }\n",
       "\n",
       "    .dataframe tbody tr th {\n",
       "        vertical-align: top;\n",
       "    }\n",
       "\n",
       "    .dataframe thead th {\n",
       "        text-align: right;\n",
       "    }\n",
       "</style>\n",
       "<table border=\"1\" class=\"dataframe\">\n",
       "  <thead>\n",
       "    <tr style=\"text-align: right;\">\n",
       "      <th></th>\n",
       "      <th>Hospital_Referral_Region_(HRR)_Description</th>\n",
       "      <th>Max_Sum</th>\n",
       "    </tr>\n",
       "  </thead>\n",
       "  <tbody>\n",
       "    <tr>\n",
       "      <th>39</th>\n",
       "      <td>CA - Ventura</td>\n",
       "      <td>3</td>\n",
       "    </tr>\n",
       "    <tr>\n",
       "      <th>57</th>\n",
       "      <td>FL - Hudson</td>\n",
       "      <td>2</td>\n",
       "    </tr>\n",
       "    <tr>\n",
       "      <th>21</th>\n",
       "      <td>CA - Los Angeles</td>\n",
       "      <td>2</td>\n",
       "    </tr>\n",
       "  </tbody>\n",
       "</table>\n",
       "</div>"
      ],
      "text/plain": [
       "   Hospital_Referral_Region_(HRR)_Description  Max_Sum\n",
       "39                               CA - Ventura        3\n",
       "57                                FL - Hudson        2\n",
       "21                           CA - Los Angeles        2"
      ]
     },
     "execution_count": 32,
     "metadata": {},
     "output_type": "execute_result"
    }
   ],
   "source": [
    "out_region_grouped.sort_values(by='Max_Sum',ascending=False).head(3)"
   ]
  },
  {
   "cell_type": "markdown",
   "metadata": {},
   "source": [
    "The three regions in which patients are charged the highest amount for the most medical procedures are **CA - Ventura, FL - Hudson** & **CA - Los Angeles**."
   ]
  },
  {
   "cell_type": "markdown",
   "metadata": {},
   "source": [
    "#### Part 1D: Highest Number of Procedures and Largest Differences between Claims and Reimbursement"
   ]
  },
  {
   "cell_type": "markdown",
   "metadata": {},
   "source": [
    "Considering -\n",
    "- Average Estimated Submitted Charges as Claims\n",
    "- Average Total Payments as Reimbursement"
   ]
  },
  {
   "cell_type": "code",
   "execution_count": 33,
   "metadata": {},
   "outputs": [],
   "source": [
    "# Deriving the required columns\n",
    "out_cr_diff = med_prov_charge_out[['APC','Provider_Name','Average_Estimated_Submitted_Charges','Average_Total_Payments']]"
   ]
  },
  {
   "cell_type": "code",
   "execution_count": 34,
   "metadata": {},
   "outputs": [],
   "source": [
    "# Creating a new column Claim_Diff and calculating the difference between submitted charges and total payments\n",
    "out_cr_diff['Claim_Diff'] = out_cr_diff.apply(lambda x: x['Average_Estimated_Submitted_Charges']-x['Average_Total_Payments'],axis=1)"
   ]
  },
  {
   "cell_type": "code",
   "execution_count": 35,
   "metadata": {},
   "outputs": [
    {
     "data": {
      "text/html": [
       "<div>\n",
       "<style scoped>\n",
       "    .dataframe tbody tr th:only-of-type {\n",
       "        vertical-align: middle;\n",
       "    }\n",
       "\n",
       "    .dataframe tbody tr th {\n",
       "        vertical-align: top;\n",
       "    }\n",
       "\n",
       "    .dataframe thead th {\n",
       "        text-align: right;\n",
       "    }\n",
       "</style>\n",
       "<table border=\"1\" class=\"dataframe\">\n",
       "  <thead>\n",
       "    <tr style=\"text-align: right;\">\n",
       "      <th></th>\n",
       "      <th>APC</th>\n",
       "      <th>Provider_Name</th>\n",
       "      <th>Average_Estimated_Submitted_Charges</th>\n",
       "      <th>Average_Total_Payments</th>\n",
       "      <th>Claim_Diff</th>\n",
       "    </tr>\n",
       "  </thead>\n",
       "  <tbody>\n",
       "    <tr>\n",
       "      <th>0</th>\n",
       "      <td>0012 - Level I Debridement &amp; Destruction</td>\n",
       "      <td>EAST ALABAMA MEDICAL CENTER AND SNF</td>\n",
       "      <td>78.086957</td>\n",
       "      <td>21.910435</td>\n",
       "      <td>56.176522</td>\n",
       "    </tr>\n",
       "    <tr>\n",
       "      <th>1</th>\n",
       "      <td>0012 - Level I Debridement &amp; Destruction</td>\n",
       "      <td>CENTRAL PENINSULA GENERAL HOSPITAL</td>\n",
       "      <td>149.589749</td>\n",
       "      <td>36.623853</td>\n",
       "      <td>112.965895</td>\n",
       "    </tr>\n",
       "  </tbody>\n",
       "</table>\n",
       "</div>"
      ],
      "text/plain": [
       "                                        APC  \\\n",
       "0  0012 - Level I Debridement & Destruction   \n",
       "1  0012 - Level I Debridement & Destruction   \n",
       "\n",
       "                         Provider_Name  Average_Estimated_Submitted_Charges  \\\n",
       "0  EAST ALABAMA MEDICAL CENTER AND SNF                            78.086957   \n",
       "1   CENTRAL PENINSULA GENERAL HOSPITAL                           149.589749   \n",
       "\n",
       "   Average_Total_Payments  Claim_Diff  \n",
       "0               21.910435   56.176522  \n",
       "1               36.623853  112.965895  "
      ]
     },
     "execution_count": 35,
     "metadata": {},
     "output_type": "execute_result"
    }
   ],
   "source": [
    "out_cr_diff.head(2)"
   ]
  },
  {
   "cell_type": "code",
   "execution_count": 36,
   "metadata": {},
   "outputs": [],
   "source": [
    "# Calculating the mean of Claim_Diff\n",
    "out_cr_mean = out_cr_diff[['APC','Provider_Name','Claim_Diff']].groupby(by=['APC','Provider_Name']).mean().add_suffix('_Avg').reset_index()"
   ]
  },
  {
   "cell_type": "code",
   "execution_count": 37,
   "metadata": {},
   "outputs": [
    {
     "data": {
      "text/html": [
       "<div>\n",
       "<style scoped>\n",
       "    .dataframe tbody tr th:only-of-type {\n",
       "        vertical-align: middle;\n",
       "    }\n",
       "\n",
       "    .dataframe tbody tr th {\n",
       "        vertical-align: top;\n",
       "    }\n",
       "\n",
       "    .dataframe thead th {\n",
       "        text-align: right;\n",
       "    }\n",
       "</style>\n",
       "<table border=\"1\" class=\"dataframe\">\n",
       "  <thead>\n",
       "    <tr style=\"text-align: right;\">\n",
       "      <th></th>\n",
       "      <th>APC</th>\n",
       "      <th>Provider_Name</th>\n",
       "      <th>Claim_Diff_Avg</th>\n",
       "    </tr>\n",
       "  </thead>\n",
       "  <tbody>\n",
       "    <tr>\n",
       "      <th>0</th>\n",
       "      <td>0012 - Level I Debridement &amp; Destruction</td>\n",
       "      <td>ALTON MEMORIAL HOSPITAL</td>\n",
       "      <td>91.856818</td>\n",
       "    </tr>\n",
       "    <tr>\n",
       "      <th>1</th>\n",
       "      <td>0012 - Level I Debridement &amp; Destruction</td>\n",
       "      <td>ALTRU HOSPITAL</td>\n",
       "      <td>7.259495</td>\n",
       "    </tr>\n",
       "  </tbody>\n",
       "</table>\n",
       "</div>"
      ],
      "text/plain": [
       "                                        APC            Provider_Name  \\\n",
       "0  0012 - Level I Debridement & Destruction  ALTON MEMORIAL HOSPITAL   \n",
       "1  0012 - Level I Debridement & Destruction           ALTRU HOSPITAL   \n",
       "\n",
       "   Claim_Diff_Avg  \n",
       "0       91.856818  \n",
       "1        7.259495  "
      ]
     },
     "execution_count": 37,
     "metadata": {},
     "output_type": "execute_result"
    }
   ],
   "source": [
    "# Average of Claim_Diff by Provider Name and APC\n",
    "out_cr_mean.head(2)"
   ]
  },
  {
   "cell_type": "code",
   "execution_count": 38,
   "metadata": {},
   "outputs": [],
   "source": [
    "# Calculating the max from Claim_Diff_Avg\n",
    "out_cr_max = out_cr_mean[['APC','Claim_Diff_Avg']].groupby(by='APC').max().add_suffix('_Max').reset_index()"
   ]
  },
  {
   "cell_type": "code",
   "execution_count": 39,
   "metadata": {},
   "outputs": [
    {
     "data": {
      "text/html": [
       "<div>\n",
       "<style scoped>\n",
       "    .dataframe tbody tr th:only-of-type {\n",
       "        vertical-align: middle;\n",
       "    }\n",
       "\n",
       "    .dataframe tbody tr th {\n",
       "        vertical-align: top;\n",
       "    }\n",
       "\n",
       "    .dataframe thead th {\n",
       "        text-align: right;\n",
       "    }\n",
       "</style>\n",
       "<table border=\"1\" class=\"dataframe\">\n",
       "  <thead>\n",
       "    <tr style=\"text-align: right;\">\n",
       "      <th></th>\n",
       "      <th>APC</th>\n",
       "      <th>Claim_Diff_Avg_Max</th>\n",
       "    </tr>\n",
       "  </thead>\n",
       "  <tbody>\n",
       "    <tr>\n",
       "      <th>0</th>\n",
       "      <td>0012 - Level I Debridement &amp; Destruction</td>\n",
       "      <td>827.44</td>\n",
       "    </tr>\n",
       "    <tr>\n",
       "      <th>1</th>\n",
       "      <td>0013 - Level II Debridement &amp; Destruction</td>\n",
       "      <td>5175.40</td>\n",
       "    </tr>\n",
       "  </tbody>\n",
       "</table>\n",
       "</div>"
      ],
      "text/plain": [
       "                                         APC  Claim_Diff_Avg_Max\n",
       "0   0012 - Level I Debridement & Destruction              827.44\n",
       "1  0013 - Level II Debridement & Destruction             5175.40"
      ]
     },
     "execution_count": 39,
     "metadata": {},
     "output_type": "execute_result"
    }
   ],
   "source": [
    "out_cr_max.head(2)"
   ]
  },
  {
   "cell_type": "code",
   "execution_count": 40,
   "metadata": {},
   "outputs": [],
   "source": [
    "# Merging The mean and max - will give side by side comparison of region having highest claim difference\n",
    "out_cr_merge = pd.merge(out_cr_mean,out_cr_max,on='APC',how='left').reset_index()"
   ]
  },
  {
   "cell_type": "code",
   "execution_count": 41,
   "metadata": {},
   "outputs": [
    {
     "data": {
      "text/html": [
       "<div>\n",
       "<style scoped>\n",
       "    .dataframe tbody tr th:only-of-type {\n",
       "        vertical-align: middle;\n",
       "    }\n",
       "\n",
       "    .dataframe tbody tr th {\n",
       "        vertical-align: top;\n",
       "    }\n",
       "\n",
       "    .dataframe thead th {\n",
       "        text-align: right;\n",
       "    }\n",
       "</style>\n",
       "<table border=\"1\" class=\"dataframe\">\n",
       "  <thead>\n",
       "    <tr style=\"text-align: right;\">\n",
       "      <th></th>\n",
       "      <th>index</th>\n",
       "      <th>APC</th>\n",
       "      <th>Provider_Name</th>\n",
       "      <th>Claim_Diff_Avg</th>\n",
       "      <th>Claim_Diff_Avg_Max</th>\n",
       "    </tr>\n",
       "  </thead>\n",
       "  <tbody>\n",
       "    <tr>\n",
       "      <th>0</th>\n",
       "      <td>0</td>\n",
       "      <td>0012 - Level I Debridement &amp; Destruction</td>\n",
       "      <td>ALTON MEMORIAL HOSPITAL</td>\n",
       "      <td>91.856818</td>\n",
       "      <td>827.44</td>\n",
       "    </tr>\n",
       "    <tr>\n",
       "      <th>1</th>\n",
       "      <td>1</td>\n",
       "      <td>0012 - Level I Debridement &amp; Destruction</td>\n",
       "      <td>ALTRU HOSPITAL</td>\n",
       "      <td>7.259495</td>\n",
       "      <td>827.44</td>\n",
       "    </tr>\n",
       "  </tbody>\n",
       "</table>\n",
       "</div>"
      ],
      "text/plain": [
       "   index                                       APC            Provider_Name  \\\n",
       "0      0  0012 - Level I Debridement & Destruction  ALTON MEMORIAL HOSPITAL   \n",
       "1      1  0012 - Level I Debridement & Destruction           ALTRU HOSPITAL   \n",
       "\n",
       "   Claim_Diff_Avg  Claim_Diff_Avg_Max  \n",
       "0       91.856818              827.44  \n",
       "1        7.259495              827.44  "
      ]
     },
     "execution_count": 41,
     "metadata": {},
     "output_type": "execute_result"
    }
   ],
   "source": [
    "out_cr_merge.head(2)"
   ]
  },
  {
   "cell_type": "code",
   "execution_count": 42,
   "metadata": {},
   "outputs": [],
   "source": [
    "# Identifying the provider with max Claim_Diff_Avg\n",
    "out_cr_merge['Max'] = out_cr_merge.apply(lambda x:1 if (x['Claim_Diff_Avg']==x['Claim_Diff_Avg_Max']) else 0, axis=1)"
   ]
  },
  {
   "cell_type": "code",
   "execution_count": 43,
   "metadata": {},
   "outputs": [
    {
     "data": {
      "text/html": [
       "<div>\n",
       "<style scoped>\n",
       "    .dataframe tbody tr th:only-of-type {\n",
       "        vertical-align: middle;\n",
       "    }\n",
       "\n",
       "    .dataframe tbody tr th {\n",
       "        vertical-align: top;\n",
       "    }\n",
       "\n",
       "    .dataframe thead th {\n",
       "        text-align: right;\n",
       "    }\n",
       "</style>\n",
       "<table border=\"1\" class=\"dataframe\">\n",
       "  <thead>\n",
       "    <tr style=\"text-align: right;\">\n",
       "      <th></th>\n",
       "      <th>index</th>\n",
       "      <th>APC</th>\n",
       "      <th>Provider_Name</th>\n",
       "      <th>Claim_Diff_Avg</th>\n",
       "      <th>Claim_Diff_Avg_Max</th>\n",
       "      <th>Max</th>\n",
       "    </tr>\n",
       "  </thead>\n",
       "  <tbody>\n",
       "    <tr>\n",
       "      <th>152</th>\n",
       "      <td>152</td>\n",
       "      <td>0012 - Level I Debridement &amp; Destruction</td>\n",
       "      <td>NEBRASKA ORTHOPAEDIC HOSPITAL</td>\n",
       "      <td>827.44</td>\n",
       "      <td>827.44</td>\n",
       "      <td>1</td>\n",
       "    </tr>\n",
       "    <tr>\n",
       "      <th>1265</th>\n",
       "      <td>1265</td>\n",
       "      <td>0013 - Level II Debridement &amp; Destruction</td>\n",
       "      <td>RUSSELLVILLE HOSPITAL</td>\n",
       "      <td>5175.40</td>\n",
       "      <td>5175.40</td>\n",
       "      <td>1</td>\n",
       "    </tr>\n",
       "  </tbody>\n",
       "</table>\n",
       "</div>"
      ],
      "text/plain": [
       "      index                                        APC  \\\n",
       "152     152   0012 - Level I Debridement & Destruction   \n",
       "1265   1265  0013 - Level II Debridement & Destruction   \n",
       "\n",
       "                      Provider_Name  Claim_Diff_Avg  Claim_Diff_Avg_Max  Max  \n",
       "152   NEBRASKA ORTHOPAEDIC HOSPITAL          827.44              827.44    1  \n",
       "1265          RUSSELLVILLE HOSPITAL         5175.40             5175.40    1  "
      ]
     },
     "execution_count": 43,
     "metadata": {},
     "output_type": "execute_result"
    }
   ],
   "source": [
    "out_cr_merge[out_cr_merge.Max==1].head(2)"
   ]
  },
  {
   "cell_type": "code",
   "execution_count": 44,
   "metadata": {},
   "outputs": [],
   "source": [
    "# Getting the required columns\n",
    "out_cr_merge_grouped = out_cr_merge[['Provider_Name','Max']].groupby(by='Provider_Name').sum().add_suffix('_Sum').reset_index()"
   ]
  },
  {
   "cell_type": "code",
   "execution_count": 45,
   "metadata": {},
   "outputs": [
    {
     "data": {
      "text/html": [
       "<div>\n",
       "<style scoped>\n",
       "    .dataframe tbody tr th:only-of-type {\n",
       "        vertical-align: middle;\n",
       "    }\n",
       "\n",
       "    .dataframe tbody tr th {\n",
       "        vertical-align: top;\n",
       "    }\n",
       "\n",
       "    .dataframe thead th {\n",
       "        text-align: right;\n",
       "    }\n",
       "</style>\n",
       "<table border=\"1\" class=\"dataframe\">\n",
       "  <thead>\n",
       "    <tr style=\"text-align: right;\">\n",
       "      <th></th>\n",
       "      <th>Provider_Name</th>\n",
       "      <th>Max_Sum</th>\n",
       "    </tr>\n",
       "  </thead>\n",
       "  <tbody>\n",
       "    <tr>\n",
       "      <th>484</th>\n",
       "      <td>COLUMBIA HOSPITAL</td>\n",
       "      <td>2</td>\n",
       "    </tr>\n",
       "    <tr>\n",
       "      <th>799</th>\n",
       "      <td>FORT WALTON BEACH MEDICAL CENTER</td>\n",
       "      <td>2</td>\n",
       "    </tr>\n",
       "    <tr>\n",
       "      <th>327</th>\n",
       "      <td>CAPITAL HEALTH MEDICAL CENTER - HOPEWELL</td>\n",
       "      <td>2</td>\n",
       "    </tr>\n",
       "  </tbody>\n",
       "</table>\n",
       "</div>"
      ],
      "text/plain": [
       "                                Provider_Name  Max_Sum\n",
       "484                         COLUMBIA HOSPITAL        2\n",
       "799          FORT WALTON BEACH MEDICAL CENTER        2\n",
       "327  CAPITAL HEALTH MEDICAL CENTER - HOPEWELL        2"
      ]
     },
     "execution_count": 45,
     "metadata": {},
     "output_type": "execute_result"
    }
   ],
   "source": [
    "out_cr_merge_grouped.sort_values(by='Max_Sum',ascending=False).head(3)"
   ]
  },
  {
   "cell_type": "markdown",
   "metadata": {},
   "source": [
    "The three providers who have the highest number of procedures with the largest difference between their claimed charges to patients and their reimbursement from Medicare are **Columbia Hospital, Fort Walton Beach Medical Center** & **Capital Health Medical Center - Hopewell**"
   ]
  },
  {
   "cell_type": "markdown",
   "metadata": {},
   "source": [
    "#### Part 2: Identify the three providers that are least similar to other providers and the the three regions that are least similar to other region"
   ]
  },
  {
   "cell_type": "markdown",
   "metadata": {},
   "source": [
    "#### Part 2A: Providers Least Like Others"
   ]
  },
  {
   "cell_type": "code",
   "execution_count": 46,
   "metadata": {},
   "outputs": [],
   "source": [
    "# Getting the required columns\n",
    "out_data = med_prov_charge_out[['APC','Provider_Name','Provider_State','Hospital_Referral_Region_(HRR)_Description','Outpatient_Services','Average_Estimated_Submitted_Charges','Average_Total_Payments']]"
   ]
  },
  {
   "cell_type": "code",
   "execution_count": 47,
   "metadata": {},
   "outputs": [],
   "source": [
    "# Renaming columns for better understanding\n",
    "out_data.rename(columns={'APC':'Procedure','Hospital_Referral_Region_(HRR)_Description':'Region','Outpatient_Services':'Count_of_Services','Average_Estimated_Submitted_Charges':'Charges','Average_Total_Payments':'Payments'},inplace=True)"
   ]
  },
  {
   "cell_type": "code",
   "execution_count": 48,
   "metadata": {},
   "outputs": [],
   "source": [
    "# Rounding off Charges and Payments columns\n",
    "out_data['Charges'] = out_data.Charges.round(2)\n",
    "out_data['Payments'] = out_data.Payments.round(2)"
   ]
  },
  {
   "cell_type": "code",
   "execution_count": 49,
   "metadata": {},
   "outputs": [],
   "source": [
    "# Aggregating some columns by providers\n",
    "out_data_group_provider = out_data.groupby(by=['Provider_Name']).agg({'Procedure':'nunique','Provider_State':'nunique','Region': 'nunique',\n",
    "'Count_of_Services':'sum', \n",
    "'Charges':'sum' , \n",
    "'Payments':'sum'})"
   ]
  },
  {
   "cell_type": "code",
   "execution_count": 50,
   "metadata": {},
   "outputs": [],
   "source": [
    "out_data_group_provider.reset_index(inplace=True)"
   ]
  },
  {
   "cell_type": "code",
   "execution_count": 51,
   "metadata": {},
   "outputs": [
    {
     "data": {
      "text/html": [
       "<div>\n",
       "<style scoped>\n",
       "    .dataframe tbody tr th:only-of-type {\n",
       "        vertical-align: middle;\n",
       "    }\n",
       "\n",
       "    .dataframe tbody tr th {\n",
       "        vertical-align: top;\n",
       "    }\n",
       "\n",
       "    .dataframe thead th {\n",
       "        text-align: right;\n",
       "    }\n",
       "</style>\n",
       "<table border=\"1\" class=\"dataframe\">\n",
       "  <thead>\n",
       "    <tr style=\"text-align: right;\">\n",
       "      <th></th>\n",
       "      <th>Provider_Name</th>\n",
       "      <th>Procedure</th>\n",
       "      <th>Provider_State</th>\n",
       "      <th>Region</th>\n",
       "      <th>Count_of_Services</th>\n",
       "      <th>Charges</th>\n",
       "      <th>Payments</th>\n",
       "    </tr>\n",
       "  </thead>\n",
       "  <tbody>\n",
       "    <tr>\n",
       "      <th>0</th>\n",
       "      <td>ABBEVILLE GENERAL HOSPITAL</td>\n",
       "      <td>7</td>\n",
       "      <td>1</td>\n",
       "      <td>1</td>\n",
       "      <td>785</td>\n",
       "      <td>4705.01</td>\n",
       "      <td>1177.85</td>\n",
       "    </tr>\n",
       "    <tr>\n",
       "      <th>1</th>\n",
       "      <td>ABBOTT NORTHWESTERN HOSPITAL</td>\n",
       "      <td>24</td>\n",
       "      <td>1</td>\n",
       "      <td>1</td>\n",
       "      <td>13329</td>\n",
       "      <td>41719.93</td>\n",
       "      <td>7695.52</td>\n",
       "    </tr>\n",
       "  </tbody>\n",
       "</table>\n",
       "</div>"
      ],
      "text/plain": [
       "                  Provider_Name  Procedure  Provider_State  Region  \\\n",
       "0    ABBEVILLE GENERAL HOSPITAL          7               1       1   \n",
       "1  ABBOTT NORTHWESTERN HOSPITAL         24               1       1   \n",
       "\n",
       "   Count_of_Services   Charges  Payments  \n",
       "0                785   4705.01   1177.85  \n",
       "1              13329  41719.93   7695.52  "
      ]
     },
     "execution_count": 51,
     "metadata": {},
     "output_type": "execute_result"
    }
   ],
   "source": [
    "out_data_group_provider.head(2)"
   ]
  },
  {
   "cell_type": "code",
   "execution_count": null,
   "metadata": {},
   "outputs": [],
   "source": []
  },
  {
   "cell_type": "markdown",
   "metadata": {},
   "source": [
    "K Means Clustering is exploratory data analysis technique. \n",
    "This is non-hierarchical method of grouping objects together"
   ]
  },
  {
   "cell_type": "code",
   "execution_count": 52,
   "metadata": {},
   "outputs": [],
   "source": [
    "out_provider_num = out_data_group_provider.select_dtypes(include=['int64','float64'])"
   ]
  },
  {
   "cell_type": "code",
   "execution_count": 53,
   "metadata": {},
   "outputs": [],
   "source": [
    "from sklearn.preprocessing import StandardScaler\n",
    "from sklearn.decomposition import PCA"
   ]
  },
  {
   "cell_type": "code",
   "execution_count": 54,
   "metadata": {},
   "outputs": [],
   "source": [
    "# Scaling the data\n",
    "sc = StandardScaler()\n",
    "out_provider_scaled = sc.fit_transform(out_provider_num)"
   ]
  },
  {
   "cell_type": "code",
   "execution_count": 55,
   "metadata": {},
   "outputs": [],
   "source": [
    "# Principal Componant Analysis\n",
    "pc=PCA(n_components=3)\n",
    "out_provider_pca = pc.fit(out_provider_scaled)"
   ]
  },
  {
   "cell_type": "code",
   "execution_count": 56,
   "metadata": {},
   "outputs": [],
   "source": [
    "reduced_cr = pc.fit_transform(out_provider_scaled)"
   ]
  },
  {
   "cell_type": "code",
   "execution_count": 57,
   "metadata": {},
   "outputs": [
    {
     "data": {
      "text/plain": [
       "(3007, 3)"
      ]
     },
     "execution_count": 57,
     "metadata": {},
     "output_type": "execute_result"
    }
   ],
   "source": [
    "reduced_cr.shape"
   ]
  },
  {
   "cell_type": "code",
   "execution_count": 58,
   "metadata": {},
   "outputs": [
    {
     "data": {
      "text/plain": [
       "(3007, 6)"
      ]
     },
     "execution_count": 58,
     "metadata": {},
     "output_type": "execute_result"
    }
   ],
   "source": [
    "out_provider_scaled.shape"
   ]
  },
  {
   "cell_type": "code",
   "execution_count": 59,
   "metadata": {},
   "outputs": [
    {
     "data": {
      "text/plain": [
       "PC_0    0.584508\n",
       "PC_1    0.244435\n",
       "PC_2    0.107230\n",
       "dtype: float64"
      ]
     },
     "execution_count": 59,
     "metadata": {},
     "output_type": "execute_result"
    }
   ],
   "source": [
    "pd.Series(pc.explained_variance_ratio_,index=['PC_' + str(i) for i in range(3)])"
   ]
  },
  {
   "cell_type": "markdown",
   "metadata": {},
   "source": [
    "#### Silhouette Coefficient"
   ]
  },
  {
   "cell_type": "code",
   "execution_count": 60,
   "metadata": {},
   "outputs": [],
   "source": [
    "from sklearn.cluster import KMeans\n",
    "from sklearn import metrics"
   ]
  },
  {
   "cell_type": "code",
   "execution_count": 61,
   "metadata": {},
   "outputs": [],
   "source": [
    "k_range = range(3,25)\n",
    "scores = []\n",
    "for k in k_range:\n",
    "    km = KMeans(n_clusters=k,random_state=1)\n",
    "    km.fit(out_provider_scaled)\n",
    "    scores.append(metrics.silhouette_score(out_provider_scaled,km.labels_))"
   ]
  },
  {
   "cell_type": "code",
   "execution_count": 62,
   "metadata": {},
   "outputs": [
    {
     "data": {
      "text/plain": [
       "[0.4011491014501958,\n",
       " 0.4145702777585026,\n",
       " 0.4348130319784132,\n",
       " 0.35849702332227334,\n",
       " 0.32814790829843693,\n",
       " 0.3298684870634567,\n",
       " 0.33671917738233953,\n",
       " 0.33985578528734095,\n",
       " 0.321663911848059,\n",
       " 0.32792048238417604,\n",
       " 0.31061067385942726,\n",
       " 0.31059635076855646,\n",
       " 0.3086987923217563,\n",
       " 0.28843922661803684,\n",
       " 0.29849893625971785,\n",
       " 0.29092311749479505,\n",
       " 0.29969892723378233,\n",
       " 0.2860029863430676,\n",
       " 0.2987405195190005,\n",
       " 0.28928562909906685,\n",
       " 0.2924062706469097,\n",
       " 0.2866446540293897]"
      ]
     },
     "execution_count": 62,
     "metadata": {},
     "output_type": "execute_result"
    }
   ],
   "source": [
    "scores"
   ]
  },
  {
   "cell_type": "code",
   "execution_count": 63,
   "metadata": {},
   "outputs": [
    {
     "data": {
      "image/png": "[encoded data removed]",
      "text/plain": [
       "<Figure size 432x288 with 1 Axes>"
      ]
     },
     "metadata": {
      "needs_background": "light"
     },
     "output_type": "display_data"
    }
   ],
   "source": [
    "plt.plot(k_range,scores)\n",
    "plt.xlabel('Number of Clusters')\n",
    "plt.ylabel('Silhouette Coefficient')\n",
    "plt.show()"
   ]
  },
  {
   "cell_type": "markdown",
   "metadata": {},
   "source": [
    "We will be using Silhouette Coefficient to get the most scattered cluster i.e. least coeffient \n",
    "to get the outliers.\n",
    "\n",
    "Using 20 custers for cluster analysis since it is having least coeffcient."
   ]
  },
  {
   "cell_type": "code",
   "execution_count": 64,
   "metadata": {},
   "outputs": [
    {
     "data": {
      "text/plain": [
       "array([ 8, 12, 11, ..., 19,  6, 17])"
      ]
     },
     "execution_count": 64,
     "metadata": {},
     "output_type": "execute_result"
    }
   ],
   "source": [
    "km_20 = KMeans(n_clusters=20,random_state=123)\n",
    "km_20.fit(reduced_cr)\n",
    "km_20.labels_"
   ]
  },
  {
   "cell_type": "code",
   "execution_count": 65,
   "metadata": {},
   "outputs": [
    {
     "data": {
      "text/plain": [
       "11    476\n",
       "2     475\n",
       "17    435\n",
       "19    391\n",
       "3     285\n",
       "8     271\n",
       "0     209\n",
       "15    136\n",
       "12    117\n",
       "4      47\n",
       "13     39\n",
       "6      32\n",
       "14     28\n",
       "16     22\n",
       "5      18\n",
       "1      11\n",
       "9       5\n",
       "18      5\n",
       "10      3\n",
       "7       2\n",
       "dtype: int64"
      ]
     },
     "execution_count": 65,
     "metadata": {},
     "output_type": "execute_result"
    }
   ],
   "source": [
    "pd.Series(km_20.labels_).value_counts()"
   ]
  },
  {
   "cell_type": "code",
   "execution_count": 67,
   "metadata": {},
   "outputs": [
    {
     "data": {
      "text/plain": [
       "Text(0.5, 0, 'PC_20')"
      ]
     },
     "execution_count": 67,
     "metadata": {},
     "output_type": "execute_result"
    },
    {
     "data": {
      "image/png": "[encoded data removed]",
      "text/plain": [
       "<Figure size 504x504 with 1 Axes>"
      ]
     },
     "metadata": {
      "needs_background": "light"
     },
     "output_type": "display_data"
    }
   ],
   "source": [
    "plt.figure(figsize=(7,7))\n",
    "plt.scatter(reduced_cr[:,0], reduced_cr[:,1], c=km_20.labels_,cmap='Spectral',alpha=1)\n",
    "plt.xlabel('PC_20')"
   ]
  },
  {
   "cell_type": "code",
   "execution_count": 68,
   "metadata": {},
   "outputs": [],
   "source": [
    "cluster_df_20=pd.concat([out_data_group_provider, pd.Series(km_20.labels_, name='Cluster_20')], axis=1)"
   ]
  },
  {
   "cell_type": "code",
   "execution_count": 69,
   "metadata": {},
   "outputs": [],
   "source": [
    "cluster_df_20.to_csv('cluster_df_20_2.csv')"
   ]
  },
  {
   "attachments": {},
   "cell_type": "markdown",
   "metadata": {},
   "source": [
    "The three providers that are least like all others are the **Cleveland Clinic, Good Samaritan Hospital** &\n",
    "**Scott & White Memorial Hospital**"
   ]
  },
  {
   "cell_type": "markdown",
   "metadata": {},
   "source": [
    "#### Part 2A: Regions Least Like Others"
   ]
  },
  {
   "cell_type": "code",
   "execution_count": 74,
   "metadata": {},
   "outputs": [],
   "source": [
    "# Aggregating some columns by regions\n",
    "out_data_group_region =out_data.groupby(by=['Region']).agg({'Procedure':'nunique','Provider_State':'nunique','Provider_Name': 'nunique',\n",
    "'Count_of_Services':'sum', \n",
    "'Charges':'sum' , \n",
    "'Payments':'sum'})"
   ]
  },
  {
   "cell_type": "code",
   "execution_count": 75,
   "metadata": {},
   "outputs": [
    {
     "data": {
      "text/html": [
       "<div>\n",
       "<style scoped>\n",
       "    .dataframe tbody tr th:only-of-type {\n",
       "        vertical-align: middle;\n",
       "    }\n",
       "\n",
       "    .dataframe tbody tr th {\n",
       "        vertical-align: top;\n",
       "    }\n",
       "\n",
       "    .dataframe thead th {\n",
       "        text-align: right;\n",
       "    }\n",
       "</style>\n",
       "<table border=\"1\" class=\"dataframe\">\n",
       "  <thead>\n",
       "    <tr style=\"text-align: right;\">\n",
       "      <th></th>\n",
       "      <th>Region</th>\n",
       "      <th>Procedure</th>\n",
       "      <th>Provider_State</th>\n",
       "      <th>Provider_Name</th>\n",
       "      <th>Count_of_Services</th>\n",
       "      <th>Charges</th>\n",
       "      <th>Payments</th>\n",
       "    </tr>\n",
       "  </thead>\n",
       "  <tbody>\n",
       "    <tr>\n",
       "      <th>0</th>\n",
       "      <td>AK - Anchorage</td>\n",
       "      <td>22</td>\n",
       "      <td>1</td>\n",
       "      <td>6</td>\n",
       "      <td>25264</td>\n",
       "      <td>106884.93</td>\n",
       "      <td>24222.52</td>\n",
       "    </tr>\n",
       "    <tr>\n",
       "      <th>1</th>\n",
       "      <td>AL - Birmingham</td>\n",
       "      <td>27</td>\n",
       "      <td>2</td>\n",
       "      <td>38</td>\n",
       "      <td>98040</td>\n",
       "      <td>882933.99</td>\n",
       "      <td>119137.00</td>\n",
       "    </tr>\n",
       "  </tbody>\n",
       "</table>\n",
       "</div>"
      ],
      "text/plain": [
       "            Region  Procedure  Provider_State  Provider_Name  \\\n",
       "0   AK - Anchorage         22               1              6   \n",
       "1  AL - Birmingham         27               2             38   \n",
       "\n",
       "   Count_of_Services    Charges   Payments  \n",
       "0              25264  106884.93   24222.52  \n",
       "1              98040  882933.99  119137.00  "
      ]
     },
     "execution_count": 75,
     "metadata": {},
     "output_type": "execute_result"
    }
   ],
   "source": [
    "out_data_group_region.reset_index(inplace=True)\n",
    "\n",
    "out_data_group_region.head(2)"
   ]
  },
  {
   "cell_type": "code",
   "execution_count": 76,
   "metadata": {},
   "outputs": [],
   "source": [
    "out_region_num = out_data_group_region.select_dtypes(include=['int64','float64'])"
   ]
  },
  {
   "cell_type": "code",
   "execution_count": 77,
   "metadata": {},
   "outputs": [],
   "source": [
    "# Scaling the data\n",
    "sc = StandardScaler()\n",
    "out_region_scaled = sc.fit_transform(out_region_num)"
   ]
  },
  {
   "cell_type": "code",
   "execution_count": 78,
   "metadata": {},
   "outputs": [],
   "source": [
    "# Principal Componant Analysis\n",
    "pc=PCA(n_components=3)\n",
    "out_region_pca = pc.fit(out_region_scaled)"
   ]
  },
  {
   "cell_type": "code",
   "execution_count": 79,
   "metadata": {},
   "outputs": [],
   "source": [
    "reduced_cr = pc.fit_transform(out_region_scaled)"
   ]
  },
  {
   "cell_type": "code",
   "execution_count": 80,
   "metadata": {},
   "outputs": [
    {
     "data": {
      "text/plain": [
       "(304, 3)"
      ]
     },
     "execution_count": 80,
     "metadata": {},
     "output_type": "execute_result"
    }
   ],
   "source": [
    "reduced_cr.shape"
   ]
  },
  {
   "cell_type": "code",
   "execution_count": 81,
   "metadata": {},
   "outputs": [
    {
     "data": {
      "text/plain": [
       "(304, 6)"
      ]
     },
     "execution_count": 81,
     "metadata": {},
     "output_type": "execute_result"
    }
   ],
   "source": [
    "out_region_scaled.shape"
   ]
  },
  {
   "cell_type": "code",
   "execution_count": 82,
   "metadata": {},
   "outputs": [
    {
     "data": {
      "text/plain": [
       "PC_0    0.654877\n",
       "PC_1    0.159107\n",
       "PC_2    0.106903\n",
       "dtype: float64"
      ]
     },
     "execution_count": 82,
     "metadata": {},
     "output_type": "execute_result"
    }
   ],
   "source": [
    "pd.Series(pc.explained_variance_ratio_,index=['PC_' + str(i) for i in range(3)])"
   ]
  },
  {
   "cell_type": "markdown",
   "metadata": {},
   "source": [
    "#### Silhouette Coefficient"
   ]
  },
  {
   "cell_type": "code",
   "execution_count": 83,
   "metadata": {},
   "outputs": [],
   "source": [
    "k_range = range(3,25)\n",
    "scores = []\n",
    "for k in k_range:\n",
    "    km = KMeans(n_clusters=k,random_state=1)\n",
    "    km.fit(out_region_scaled)\n",
    "    scores.append(metrics.silhouette_score(out_region_scaled,km.labels_))"
   ]
  },
  {
   "cell_type": "code",
   "execution_count": 84,
   "metadata": {},
   "outputs": [
    {
     "data": {
      "text/plain": [
       "[0.375478988810335,\n",
       " 0.37756386611844345,\n",
       " 0.3699014789064492,\n",
       " 0.35933202508465206,\n",
       " 0.3775689113350811,\n",
       " 0.34192528182505827,\n",
       " 0.33339023667509554,\n",
       " 0.34987177255167473,\n",
       " 0.3263033248442749,\n",
       " 0.3313767638888258,\n",
       " 0.31307169100949517,\n",
       " 0.32206343676197846,\n",
       " 0.33554685829762615,\n",
       " 0.2918048091824904,\n",
       " 0.31039699702505036,\n",
       " 0.3119222286557435,\n",
       " 0.3030340210784949,\n",
       " 0.2976031439925273,\n",
       " 0.30590875335096873,\n",
       " 0.30145199428137603,\n",
       " 0.2987537793378989,\n",
       " 0.29819043483354035]"
      ]
     },
     "execution_count": 84,
     "metadata": {},
     "output_type": "execute_result"
    }
   ],
   "source": [
    "scores"
   ]
  },
  {
   "cell_type": "code",
   "execution_count": 85,
   "metadata": {},
   "outputs": [
    {
     "data": {
      "image/png": "[encoded data removed]",
      "text/plain": [
       "<Figure size 432x288 with 1 Axes>"
      ]
     },
     "metadata": {
      "needs_background": "light"
     },
     "output_type": "display_data"
    }
   ],
   "source": [
    "plt.plot(k_range,scores)\n",
    "plt.xlabel('Number of Clusters')\n",
    "plt.ylabel('Silhouette Coefficient')\n",
    "plt.show()"
   ]
  },
  {
   "cell_type": "markdown",
   "metadata": {},
   "source": [
    "We will be using Silhouette Coefficient to get the most scattered cluster i.e. least coeffient \n",
    "to get the outliers.\n",
    "\n",
    "Using 16 custers for cluster analysis since it is having least coeffcient."
   ]
  },
  {
   "cell_type": "code",
   "execution_count": 86,
   "metadata": {},
   "outputs": [
    {
     "data": {
      "text/plain": [
       "array([ 6,  5, 14,  1,  1,  6,  2, 10, 10,  7,  6, 14,  6,  5, 12, 11, 11,\n",
       "        6,  6,  6, 11,  4,  6,  2,  7,  6,  6,  7,  2,  7,  7,  0, 11, 12,\n",
       "        0,  2, 12, 12, 12,  6, 12,  6,  8, 10, 12,  6,  2, 11,  7,  8,  0,\n",
       "       10, 12,  6,  3,  0, 11, 12,  8, 12,  7,  6,  3, 11, 12,  8, 11,  6,\n",
       "        1, 11,  2,  9,  1, 10, 11, 10, 10, 11,  6,  1, 11,  2,  0,  2, 10,\n",
       "        6,  1,  6,  2,  2, 11,  3,  6,  0,  6,  6,  0,  0, 11, 11,  2, 14,\n",
       "       10, 11,  3,  2, 12,  6, 11,  2, 11,  7,  2,  7,  8,  2, 10,  2,  6,\n",
       "       12, 11,  2,  6,  6, 11,  1, 10, 15, 11,  0,  2,  0,  8,  0,  6,  0,\n",
       "       11, 11,  6,  6,  2,  2,  2,  6,  0, 11, 12,  2, 11,  5,  0,  2, 11,\n",
       "        6,  0, 14,  5,  1,  5,  6,  2,  7, 10,  2, 10,  1,  2,  6,  0,  8,\n",
       "        8,  2, 11, 11,  7,  2,  8, 11,  1,  2, 12,  6,  8,  1,  0,  7,  1,\n",
       "        1,  6, 11,  6, 10,  8,  1,  6, 13, 11, 11, 11,  3,  2,  3,  0,  0,\n",
       "        6, 11,  6,  8,  3,  3, 11,  2,  6,  8, 10,  2,  3,  8, 12,  6,  1,\n",
       "        8,  2,  8,  2,  0,  1,  0,  2,  6,  9,  5,  6, 10,  6, 11,  2,  8,\n",
       "        0, 11,  6, 11,  6,  2, 14, 10,  6, 10, 10,  8, 13,  5,  6, 14,  7,\n",
       "        6,  2,  6,  9, 10,  7,  6,  4,  2,  1,  6,  2,  2,  7,  0,  0, 12,\n",
       "        6,  2,  2, 12, 13, 11,  0,  6,  6,  1,  7,  1, 10,  1,  6,  2,  3,\n",
       "        1,  6,  6,  2,  1, 10,  0, 11,  5,  2,  6, 11,  1,  1, 12])"
      ]
     },
     "execution_count": 86,
     "metadata": {},
     "output_type": "execute_result"
    }
   ],
   "source": [
    "km_16 = KMeans(n_clusters=16,random_state=124)\n",
    "km_16.fit(reduced_cr)\n",
    "km_16.labels_"
   ]
  },
  {
   "cell_type": "code",
   "execution_count": 87,
   "metadata": {},
   "outputs": [
    {
     "data": {
      "text/plain": [
       "6     59\n",
       "2     46\n",
       "11    41\n",
       "0     26\n",
       "1     24\n",
       "10    22\n",
       "12    19\n",
       "8     18\n",
       "7     16\n",
       "3     10\n",
       "5      8\n",
       "14     6\n",
       "13     3\n",
       "9      3\n",
       "4      2\n",
       "15     1\n",
       "dtype: int64"
      ]
     },
     "execution_count": 87,
     "metadata": {},
     "output_type": "execute_result"
    }
   ],
   "source": [
    "pd.Series(km_16.labels_).value_counts()"
   ]
  },
  {
   "cell_type": "code",
   "execution_count": 88,
   "metadata": {},
   "outputs": [
    {
     "data": {
      "text/plain": [
       "Text(0.5, 0, 'PC_16')"
      ]
     },
     "execution_count": 88,
     "metadata": {},
     "output_type": "execute_result"
    },
    {
     "data": {
      "image/png": "[encoded data removed]",
      "text/plain": [
       "<Figure size 504x504 with 1 Axes>"
      ]
     },
     "metadata": {
      "needs_background": "light"
     },
     "output_type": "display_data"
    }
   ],
   "source": [
    "plt.figure(figsize=(7,7))\n",
    "plt.scatter(reduced_cr[:,0], reduced_cr[:,1], c=km_16.labels_,cmap='Spectral',alpha=1)\n",
    "plt.xlabel('PC_16')"
   ]
  },
  {
   "cell_type": "code",
   "execution_count": 89,
   "metadata": {},
   "outputs": [],
   "source": [
    "cluster_df_16=pd.concat([out_data_group_region, pd.Series(km_16.labels_, name='Cluster_16')], axis=1)"
   ]
  },
  {
   "cell_type": "code",
   "execution_count": 90,
   "metadata": {},
   "outputs": [],
   "source": [
    "cluster_df_16.to_csv('cluster_df_16_region.csv')"
   ]
  },
  {
   "attachments": {},
   "cell_type": "markdown",
   "metadata": {},
   "source": [
    "The three providers that are least like all others are the **CA - Los Angeles, MA - Boston** & **TX - Houston**\n"
   ]
  },
  {
   "cell_type": "code",
   "execution_count": null,
   "metadata": {},
   "outputs": [],
   "source": [
    "### Part 3: Identify 10000 medicare patients who are involved in anomalous activities ."
   ]
  }
 ],
 "metadata": {
  "kernelspec": {
   "display_name": "Python 3",
   "language": "python",
   "name": "python3"
  },
  "language_info": {
   "codemirror_mode": {
    "name": "ipython",
    "version": 3
   },
   "file_extension": ".py",
   "mimetype": "text/x-python",
   "name": "python",
   "nbconvert_exporter": "python",
   "pygments_lexer": "ipython3",
   "version": "3.8.3"
  }
 },
 "nbformat": 4,
 "nbformat_minor": 4
}
